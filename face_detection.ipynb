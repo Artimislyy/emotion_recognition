{
 "cells": [
  {
   "cell_type": "code",
   "execution_count": 5,
   "id": "pleasant-vegetation",
   "metadata": {},
   "outputs": [],
   "source": [
    "import os\n",
    "from PIL import Image"
   ]
  },
  {
   "cell_type": "code",
   "execution_count": 6,
   "id": "reverse-differential",
   "metadata": {},
   "outputs": [],
   "source": [
    "path = '/home/data/5'"
   ]
  },
  {
   "cell_type": "code",
   "execution_count": 17,
   "id": "different-strategy",
   "metadata": {},
   "outputs": [],
   "source": [
    "def get_faces_from_gray_image(img_path,out_img):\n",
    "    \"\"\"\n",
    "    获取图片中的人脸\n",
    "    :param img_path:\n",
    "    :return:\n",
    "    \"\"\"\n",
    "    import cv2\n",
    "    face_cascade = cv2.CascadeClassifier(cv2.data.haarcascades+'haarcascade_frontalface_alt.xml')\n",
    "    img = cv2.imread(img_path)\n",
    "\n",
    "    img_gray = cv2.cvtColor(img, cv2.COLOR_BGR2GRAY)\n",
    "    faces = face_cascade.detectMultiScale(\n",
    "        img_gray,\n",
    "        scaleFactor=1.1,\n",
    "        minNeighbors=1,\n",
    "        minSize=(10, 10)\n",
    "    )\n",
    "    if len(faces) == 0:\n",
    "        return None\n",
    "    # 遍历每一个脸\n",
    "    for (x, y, w, h) in faces:\n",
    "        face_img_gray = img_gray[:, :]\n",
    "        im = Image.fromarray(face_img_gray)\n",
    "        im.save(out_img)        \n",
    "    return 0"
   ]
  },
  {
   "cell_type": "code",
   "execution_count": 18,
   "id": "established-relation",
   "metadata": {},
   "outputs": [
    {
     "name": "stdout",
     "output_type": "stream",
     "text": [
      "happy\n",
      "sad\n",
      "fear\n",
      "neutral\n",
      "angry\n",
      "suprise\n",
      "disgust\n"
     ]
    }
   ],
   "source": [
    "for file in os.listdir(path):\n",
    "    print(file)\n",
    "    for img_file in os.listdir(os.path.join(path,file)):\n",
    "#         print(img_file)\n",
    "        img_path = os.path.join(path,file,img_file)\n",
    "        out_path = os.path.join(\"/project/train/scr_repo1/data2\",file)\n",
    "        out_img = os.path.join(\"/project/train/scr_repo1/data2\",file,img_file)\n",
    "        if not os.path.exists(out_path):\n",
    "            os.makedirs(out_path)\n",
    "        if os.path.exists(out_img):\n",
    "            continue\n",
    "        get_faces_from_gray_image(img_path,out_img)\n",
    "#         print(img_path)\n",
    "        \n",
    "        "
   ]
  },
  {
   "cell_type": "code",
   "execution_count": null,
   "id": "prostate-novelty",
   "metadata": {},
   "outputs": [],
   "source": []
  }
 ],
 "metadata": {
  "kernelspec": {
   "display_name": "Python 3",
   "language": "python",
   "name": "python3"
  },
  "language_info": {
   "codemirror_mode": {
    "name": "ipython",
    "version": 3
   },
   "file_extension": ".py",
   "mimetype": "text/x-python",
   "name": "python",
   "nbconvert_exporter": "python",
   "pygments_lexer": "ipython3",
   "version": "3.6.12"
  }
 },
 "nbformat": 4,
 "nbformat_minor": 5
}
