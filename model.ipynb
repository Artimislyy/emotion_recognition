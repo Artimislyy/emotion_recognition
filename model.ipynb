{
 "cells": [
  {
   "cell_type": "code",
   "execution_count": null,
   "id": "divine-lingerie",
   "metadata": {},
   "outputs": [],
   "source": [
    "from tqdm import tqdm\n",
    "from tensorflow.keras.callbacks import EarlyStopping\n",
    "from tensorflow.keras.utils import to_categorical\n",
    "from tensorflow.keras.optimizers import SGD, Adam\n",
    "import os\n",
    "import numpy as np\n",
    "from tensorflow.keras.preprocessing.image import img_to_array, load_img\n",
    "import cv2\n",
    "from sklearn.model_selection import train_test_split\n",
    "from tensorflow.keras.layers import Input, Conv2D, MaxPooling2D, Dropout, BatchNormalization, Flatten, Dense, AveragePooling2D\n",
    "from tensorflow.keras.models import Model\n",
    "from tensorflow.keras.layers import PReLU\n",
    "from tensorflow.keras.models import Sequential"
   ]
  },
  {
   "cell_type": "code",
   "execution_count": null,
   "id": "funded-corner",
   "metadata": {},
   "outputs": [],
   "source": [
    "expressions = ['happy', 'sad', 'fear', 'neutral', 'angry', 'suprise', 'disgust']\n",
    "x_train, y_train, x_test, y_test = [], [], [], []"
   ]
  },
  {
   "cell_type": "code",
   "execution_count": null,
   "id": "fifteen-extraction",
   "metadata": {},
   "outputs": [],
   "source": [
    "file_path = '/project/data3/'\n",
    "for file in os.listdir(file_path):\n",
    "    img_file = os.path.join(file_path,file)\n",
    "    for img in  os.listdir(img_file):\n",
    "        if img.endswith('.jpg'):\n",
    "            img = load_img(os.path.join(img_file,img),color_mode=\"grayscale\")\n",
    "            img = img_to_array(img)\n",
    "            x_train.append(img)\n",
    "            for i in range(len(expressions)):\n",
    "                if(expressions[i]==file):\n",
    "                    y_train.append(i)\n",
    "x_train = np.array(x_train)/255.\n",
    "y_train = np.array(y_train).astype('int') \n",
    "y_train = to_categorical(y_train, num_classes = 7)"
   ]
  },
  {
   "cell_type": "code",
   "execution_count": null,
   "id": "confirmed-inquiry",
   "metadata": {},
   "outputs": [],
   "source": [
    "x_train, x_test, y_train, y_test = train_test_split(x_train, y_train, test_size=0.2, random_state=2021)"
   ]
  },
  {
   "cell_type": "code",
   "execution_count": null,
   "id": "australian-quantity",
   "metadata": {},
   "outputs": [],
   "source": [
    "model = Sequential()\n",
    "\n",
    "model.add(Conv2D(32, kernel_size=(3, 3), strides=1, padding='same', activation='relu',input_shape=(256,256,1)))\n",
    "model.add(Conv2D(32, kernel_size=(3, 3), strides=1, padding='same', activation='relu'))\n",
    "model.add(MaxPooling2D(pool_size=(2, 2), strides=(2, 2)))\n",
    "model.add(Dropout(0.5)) \n",
    "\n",
    "model.add(Conv2D(64, kernel_size=(3, 3), strides=1, padding='same', activation='relu'))\n",
    "model.add(Conv2D(64, kernel_size=(3, 3), strides=1, padding='same', activation='relu'))\n",
    "model.add(MaxPooling2D(pool_size=(2, 2), strides=(2, 2)))\n",
    "model.add(Dropout(0.5)) \n",
    "\n",
    "model.add(Conv2D(128, kernel_size=(3, 3), strides=1, padding='same', activation='relu'))\n",
    "model.add(Conv2D(128, kernel_size=(3, 3), strides=1, padding='same', activation='relu'))\n",
    "model.add(MaxPooling2D(pool_size=(2, 2), strides=(2, 2)))\n",
    "model.add(Dropout(0.5)) \n",
    "\n",
    "model.add(Flatten())\n",
    "model.add(Dense(1024, activation='relu'))   \n",
    "model.add(Dropout(0.5)) \n",
    "model.add(Dense(128, activation='relu')) \n",
    "model.add(Dense(7, activation='softmax')) "
   ]
  },
  {
   "cell_type": "code",
   "execution_count": null,
   "id": "worst-detail",
   "metadata": {},
   "outputs": [],
   "source": [
    "sgd = SGD(lr=0.01, decay=1e-6, momentum=0.9, nesterov=True)\n",
    "model.compile(optimizer=sgd, loss='categorical_crossentropy', metrics=['accuracy'])\n",
    "early_stopping =EarlyStopping(monitor='accuracy', patience=10, verbose=2)"
   ]
  },
  {
   "cell_type": "code",
   "execution_count": null,
   "id": "transparent-leone",
   "metadata": {},
   "outputs": [],
   "source": [
    "history = model.fit(x_train,y_train,epochs=200,batch_size=32,callbacks=[early_stopping])"
   ]
  },
  {
   "cell_type": "code",
   "execution_count": null,
   "id": "forced-singing",
   "metadata": {},
   "outputs": [],
   "source": [
    "result = model.predict(x_test)"
   ]
  }
 ],
 "metadata": {
  "kernelspec": {
   "display_name": "Python 3",
   "language": "python",
   "name": "python3"
  },
  "language_info": {
   "codemirror_mode": {
    "name": "ipython",
    "version": 3
   },
   "file_extension": ".py",
   "mimetype": "text/x-python",
   "name": "python",
   "nbconvert_exporter": "python",
   "pygments_lexer": "ipython3",
   "version": "3.6.12"
  }
 },
 "nbformat": 4,
 "nbformat_minor": 5
}
